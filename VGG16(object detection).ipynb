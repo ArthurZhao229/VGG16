{
 "cells": [
  {
   "cell_type": "code",
   "execution_count": 2,
   "metadata": {},
   "outputs": [
    {
     "data": {
      "image/png": "[encoded data removed]",
      "text/plain": [
       "<Figure size 432x288 with 1 Axes>"
      ]
     },
     "metadata": {},
     "output_type": "display_data"
    }
   ],
   "source": [
    "\n",
    "import matplotlib.pyplot as plt\n",
    "\n",
    "from keras.applications.vgg16 import VGG16\n",
    "from keras.preprocessing import image\n",
    "from keras.applications.vgg16 import preprocess_input, decode_predictions\n",
    "import numpy as np\n",
    "\n",
    "def percent(value):\n",
    "    return '%.2f%%' % (value * 100)\n",
    "\n",
    "model = VGG16(weights='H:/vgg16_weights_tf_dim_ordering_tf_kernels.h5', include_top=True)\n",
    "img_path = 'H:/sg_dataset/sg_test_images/4085049_2fda7bc44b_o.jpg'\n",
    "\n",
    "img = image.load_img(img_path, target_size=(224, 224))\n",
    "x = image.img_to_array(img) \n",
    "x = np.expand_dims(x, axis=0)\n",
    "x = preprocess_input(x)\n",
    "\n",
    "features = model.predict(x)\n",
    "\n",
    "pred=decode_predictions(features, top=5)[0]\n",
    "\n",
    "\n",
    "#整理预测结果,value\n",
    "values = []\n",
    "bar_label = []\n",
    "for element in pred:\n",
    "    values.append(element[2])\n",
    "    bar_label.append(element[1])\n",
    "\n",
    "#绘图并保存\n",
    "fig=plt.figure(u\"Top-5 预测结果\")\n",
    "ax = fig.add_subplot(111) \n",
    "ax.bar(range(len(values)), values, tick_label=bar_label, width=0.5, fc='g')\n",
    "ax.set_ylabel(u'probability') \n",
    "ax.set_title(u'Top-5') \n",
    "for a,b in zip(range(len(values)), values):\n",
    "    ax.text(a, b+0.0005, percent(b), ha='center', va = 'bottom', fontsize=7)\n",
    "\n",
    "fig = plt.gcf()\n",
    "plt.show()\n",
    "\n",
    "name=img_path[0:-4]+'_pred'\n",
    "fig.savefig(name, dpi=200)"
   ]
  }
 ],
 "metadata": {
  "kernelspec": {
   "display_name": "Python (Python 3.6)",
   "language": "python",
   "name": "python36"
  },
  "language_info": {
   "codemirror_mode": {
    "name": "ipython",
    "version": 3
   },
   "file_extension": ".py",
   "mimetype": "text/x-python",
   "name": "python",
   "nbconvert_exporter": "python",
   "pygments_lexer": "ipython3",
   "version": "3.6.10"
  }
 },
 "nbformat": 4,
 "nbformat_minor": 2
}
